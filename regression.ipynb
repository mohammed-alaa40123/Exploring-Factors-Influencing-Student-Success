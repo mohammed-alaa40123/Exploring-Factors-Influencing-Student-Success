{
 "cells": [
  {
   "cell_type": "code",
   "execution_count": 32,
   "metadata": {},
   "outputs": [],
   "source": [
    "from sklearn.linear_model import LinearRegression\n",
    "from sklearn.model_selection import train_test_split\n",
    "from sklearn.metrics import mean_squared_error, r2_score\n",
    "from sklearn.preprocessing import PolynomialFeatures\n",
    "from sklearn.preprocessing import Normalizer\n",
    "from sklearn.preprocessing import MinMaxScaler\n",
    "import pandas as pd\n",
    "import numpy as np\n",
    "import warnings\n",
    "import scipy.stats as stats\n",
    "# Ignore warnings\n",
    "warnings.filterwarnings(\"ignore\")\n",
    "import matplotlib.pyplot as plt\n",
    "from sklearn.model_selection import KFold\n",
    "from sklearn.linear_model import Ridge\n",
    "from sklearn.pipeline import Pipeline\n",
    "from sklearn.preprocessing import OrdinalEncoder as ore"
   ]
  },
  {
   "cell_type": "code",
   "execution_count": 33,
   "metadata": {},
   "outputs": [],
   "source": [
    "df = pd.read_csv(\"cleaned_df.csv\")"
   ]
  },
  {
   "cell_type": "code",
   "execution_count": 34,
   "metadata": {},
   "outputs": [],
   "source": [
    "\n",
    "X = df.drop(columns=[\"G3\"])\n",
    "y = df['G3']\n"
   ]
  },
  {
   "cell_type": "markdown",
   "metadata": {},
   "source": [
    "# Model Building"
   ]
  },
  {
   "cell_type": "markdown",
   "metadata": {},
   "source": [
    "## First we will define our features and our target"
   ]
  },
  {
   "cell_type": "code",
   "execution_count": 35,
   "metadata": {},
   "outputs": [],
   "source": [
    "def denormalize(y):#this is a denormalize function\n",
    "    u=np.mean(df['G3'])\n",
    "    sigma=np.std(df['G3'])\n",
    "    for i in y:\n",
    "        i=i*sigma+u\n",
    "    return y"
   ]
  },
  {
   "cell_type": "code",
   "execution_count": 36,
   "metadata": {},
   "outputs": [],
   "source": [
    "def significance_hypothesis_test(X,y_train,y_pred,coeff):\n",
    "    N=len(y_train)\n",
    "    numerator=np.sqrt(mean_squared_error(y_train,y_pred)*(N/(N-2)))\n",
    "    SE=[]\n",
    "   \n",
    "    cols=X.columns.copy()\n",
    "    for column in cols:\n",
    "        denomenator=np.sqrt(np.std(X[column])*N)\n",
    "        SE.append(numerator/denomenator)\n",
    "    Z_score=[]\n",
    "    p_score=[]\n",
    "    new_coeff=[]\n",
    "  \n",
    "\n",
    "    \n",
    "\n",
    "    for i in range(len(coeff)):\n",
    "        Z_score.append(coeff[i]/SE[i])\n",
    "        p_score.append(2*stats.norm.cdf(-abs(Z_score[i])))\n",
    "        if(p_score[i]<0.05):\n",
    "            new_coeff.append((coeff[i],X.columns[i]))\n",
    "        else:\n",
    "            new_coeff.append((0,X.columns[i]))\n",
    "    return new_coeff,p_score,Z_score\n",
    "    \n",
    "    "
   ]
  },
  {
   "cell_type": "code",
   "execution_count": 37,
   "metadata": {},
   "outputs": [],
   "source": [
    "df = pd.read_csv(\"cleaned_df.csv\")"
   ]
  },
  {
   "cell_type": "code",
   "execution_count": 38,
   "metadata": {},
   "outputs": [],
   "source": [
    "pipe=Pipeline([('ore',ore()),('Normalizer',Normalizer()),('Ridge',Ridge())])\n"
   ]
  },
  {
   "cell_type": "code",
   "execution_count": 39,
   "metadata": {},
   "outputs": [
    {
     "name": "stdout",
     "output_type": "stream",
     "text": [
      "MSE Score:  1.9372166794863541\n",
      "R^2 Score:  0.7158669150317205\n",
      "[(-4.251631314929466, 'Fjob'), (-4.249551346879617, 'Pstatus'), (-4.246244464433091, 'health'), (-2.8268549964940455, 'school'), (-2.7967552989424074, 'freetime'), (-2.350315197494153, 'higher'), (-2.3170995447527134, 'famsup'), (-2.236944092235071, 'goout'), (-2.13391335691757, 'guardian'), (-1.978334184201354, 'famrel'), (-1.9667702825175144, 'schoolsup'), (-1.920520019916024, 'romantic'), (-1.9031221880883962, 'famsize'), (-1.8065716042626934, 'nursery'), (-1.7465399653503224, 'address'), (-1.5867554360451794, 'traveltime'), (-1.5483695454272655, 'Fedu'), (-1.2303925922255403, 'sex'), (-1.2237898803373994, 'failures'), (-1.2094972492308005, 'Walc'), (-1.2010520210302502, 'activities'), (-1.031172629368273, 'absences'), (-0.9807171373741369, 'internet'), (-0.9374703724502994, 'reason'), (-0.805689615824041, 'Dalc'), (-0.63483440414164, 'paid'), (-0.39803660486462106, 'studytime'), (0, 'Medu'), (0, 'age'), (0.5541087150027679, 'Mjob'), (5.896236681679491, 'avg_Grade')]\n",
      "[1.9815881095247938e-198, 1.5292196909516029e-40, 0.14031180398189577, 1.0392298805145941e-74, 2.8014076733800914e-86, 3.779433661225364e-290, 0.5780512631626791, 2.237151143001922e-141, 7.23970630053663e-22, 0.0, 7.562536263744534e-57, 5.09562128118932e-122, 7.130184530813426e-88, 2.636232923823155e-07, 1.4932095389352778e-47, 5.528204863618261e-62, 1.6242236080018168e-137, 2.5474072022192685e-06, 2.242432902268201e-39, 6.73861615380932e-71, 3.6152723369908066e-85, 2.1201416631258246e-22, 4.291886995021046e-94, 3.497369697810472e-136, 0.0, 3.961168644555374e-294, 5.95040041606537e-21, 2.2381817011616273e-90, 0.0, 1.7346754953743345e-178, 0.0]\n",
      "[-30.053222271320696, -13.330957642616895, 1.4746308954435419, -18.287582411799594, -19.686741501136165, -36.403266330133064, 0.556233467382552, -25.314051014883404, 9.610215843150934, -60.53283860268565, -15.888914881713351, -23.49054304961376, -19.871866455953285, -5.1477544341781, -14.485641996270122, -16.613897259538174, -24.960946511734825, -4.70429817552014, -13.129121341166899, -17.802663669292837, -19.556730663268755, -9.73586118292717, -20.578332998290282, -24.837865703472314, -40.377599790753386, -36.65393357347689, -9.390874729337883, -20.159122034275633, -78.04043482379554, -28.486238262430312, 205.37393133388977]\n"
     ]
    }
   ],
   "source": [
    "pipe.fit(X,y)\n",
    "y_pred_norm=pipe.predict(X)\n",
    "y_pred=denormalize(y_pred_norm)\n",
    "mse = mean_squared_error(y, y_pred)\n",
    "print(\"MSE Score: \",mse)\n",
    "rs=r2_score(y,y_pred)\n",
    "print(\"R^2 Score: \",rs)\n",
    "enc=ore()\n",
    "\n",
    "X1=enc.fit_transform(X)\n",
    "\n",
    "encoded_df = pd.DataFrame(X1,columns=enc.get_feature_names_out(X.columns))\n",
    "\n",
    "nc,ps,zs=significance_hypothesis_test(encoded_df,y,y_pred,pipe.named_steps['Ridge'].coef_)\n",
    "print(sorted(nc))\n",
    "print(ps)\n",
    "print(zs)\n"
   ]
  },
  {
   "cell_type": "markdown",
   "metadata": {},
   "source": [
    "Here we tried Ridge regression with cross "
   ]
  },
  {
   "cell_type": "code",
   "execution_count": 40,
   "metadata": {},
   "outputs": [
    {
     "name": "stdout",
     "output_type": "stream",
     "text": [
      "MSE Score:  1.6762269005770827\n",
      "R^2 Score:  0.7541464899558548\n"
     ]
    }
   ],
   "source": [
    "from sklearn.pipeline import Pipeline\n",
    "from sklearn.preprocessing import StandardScaler\n",
    "from sklearn.linear_model import LinearRegression\n",
    "from sklearn.model_selection import KFold, cross_val_score\n",
    "import numpy as np\n",
    "alphas = [0,0.1, 1.0, 10.0]\n",
    "mean_cv_scores = []\n",
    "for alpha in alphas:\n",
    "    # Define the pipeline with Ridge Regression\n",
    "    pipeline = Pipeline([\n",
    "        ('ore',ore()),\n",
    "        ('scaler', StandardScaler()),\n",
    "        ('ridge', Ridge(alpha=alpha))\n",
    "    ])\n",
    "        # Define K-Fold Cross-Validation\n",
    "    kfold = KFold(n_splits=5, shuffle=True, random_state=42)\n",
    "\n",
    "    # Perform K-Fold Cross-Validation\n",
    "    cv_scores = cross_val_score(pipeline, X, y, cv=kfold)\n",
    "    mean_cv_score = np.mean(cv_scores)\n",
    "    mean_cv_scores.append(mean_cv_score)\n",
    "best_alpha = alphas[np.argmax(mean_cv_scores)]\n",
    "pipe=Pipeline([('ore',ore()),('Normalizer',Normalizer()),('Ridge',Ridge(alpha=best_alpha))])\n",
    "pipe.fit(X,y)\n",
    "y_pred_norm=pipe.predict(X)\n",
    "y_pred=denormalize(y_pred_norm)\n",
    "mse = mean_squared_error(y, y_pred)\n",
    "print(\"MSE Score: \",mse)\n",
    "rs=r2_score(y,y_pred)\n",
    "print(\"R^2 Score: \",rs)\n"
   ]
  },
  {
   "cell_type": "markdown",
   "metadata": {},
   "source": [
    "Here we tried only linear regression with the feature we made from previous grades"
   ]
  },
  {
   "cell_type": "code",
   "execution_count": 41,
   "metadata": {},
   "outputs": [
    {
     "name": "stdout",
     "output_type": "stream",
     "text": [
      "Mean MSE: 0.93\n",
      "Mean R^2: 0.88\n",
      "Train R^2 Score: 0.8775947730876035\n",
      "Test R^2 Score: 0.8791414363302177\n",
      "[(0.9438224181412738, 'avg_Grade')]\n",
      "[4.440419873752014e-50]\n",
      "[14.880068898777415]\n"
     ]
    }
   ],
   "source": [
    "X=df[['avg_Grade']]\n",
    "y=df['G3']\n",
    "x_train, x_test, y_train, y_test = train_test_split(X, y ,random_state = 104, train_size=0.8, shuffle=True) \n",
    "\n",
    "model=LinearRegression()\n",
    "model.fit(x_train,y_train)\n",
    "y_pred=model.predict(x_test)\n",
    "# Calculate mean and standard deviation of MSE and R2\n",
    "mse = mean_squared_error(y_test, y_pred)\n",
    "r2 = r2_score(y_test, y_pred)\n",
    "print(\"Mean MSE: {:.2f}\".format(mse))\n",
    "print(\"Mean R^2: {:.2f}\".format(r2))\n",
    "\n",
    "\n",
    "y_pred_train = model.predict(x_train)\n",
    "train_r2 = r2_score(y_train, y_pred_train)\n",
    "print(\"Train R^2 Score:\", train_r2)\n",
    "\n",
    "# Evaluate the best model on the test set\n",
    "y_pred_test = model.predict(x_test)\n",
    "test_r2 = r2_score(y_test, y_pred_test)\n",
    "print(\"Test R^2 Score:\", test_r2)\n",
    "nc,ps,zs=significance_hypothesis_test(X,y_test,y_pred,model.coef_)\n",
    "print(nc)\n",
    "print(ps)\n",
    "print(zs)\n"
   ]
  },
  {
   "cell_type": "markdown",
   "metadata": {},
   "source": [
    "Trying Linear Regression with encoding categorical variables"
   ]
  },
  {
   "cell_type": "code",
   "execution_count": 42,
   "metadata": {},
   "outputs": [
    {
     "name": "stdout",
     "output_type": "stream",
     "text": [
      "MSE Score:  0.4791093138804454\n",
      "Train R^2 Score: 0.7088781113732967\n",
      "Test R^2 Score: 0.7548654187190122\n"
     ]
    }
   ],
   "source": [
    "l = []\n",
    "cat = []\n",
    "\n",
    "for i in df:\n",
    "    if (type(df[i][0]) != str):\n",
    "        l.append(i)\n",
    "    else:\n",
    "        cat.append(i)\n",
    "        \n",
    "l.remove(\"G3\")\n",
    "x = df[l].copy()\n",
    "cat = df[cat].copy() # cat is df\n",
    "\n",
    "for i in cat:\n",
    "    unique = cat[i].unique()\n",
    "    uniqueDict = dict()\n",
    "      \n",
    "    for c in range(len(unique)):\n",
    "        uniqueDict[unique[c]] = c\n",
    "        \n",
    "    cat[i] = cat[i].apply(lambda j: uniqueDict[j])\n",
    "        \n",
    "    # for j in cat[i].keys():\n",
    "    #     cat.loc[j, i] = uniqueDict[cat[i][j]]\n",
    "        \n",
    "    cat[i] = cat[i].astype(\"int64\")\n",
    "    x[i] = cat[i].copy()\n",
    "\n",
    "for i in x:\n",
    "    u = np.mean(x[i])\n",
    "    sigma = np.std(x[i])\n",
    "    x[i] = (x[i] - u) / sigma\n",
    "\n",
    "y = df[\"G3\"].copy()\n",
    "\n",
    "for i in y.keys():\n",
    "    u = np.mean(y)\n",
    "    sigma = np.std(y)\n",
    "    y[i] = (y[i] - u) / sigma\n",
    "\n",
    "from sklearn.model_selection import train_test_split\n",
    "x_train, x_test, y_train, y_test = train_test_split(x, y ,random_state = 104, train_size=0.8, shuffle=True) \n",
    "\n",
    "regr = LinearRegression(fit_intercept = True)\n",
    "regr.fit(x_train, y_train)\n",
    "y_pred = regr.predict(x_test)\n",
    "\n",
    "print(\"MSE Score: \",mean_squared_error(y_test, y_pred))\n",
    "\n",
    "y_pred_train = regr.predict(x_train)\n",
    "train_r2 = r2_score(y_train, y_pred_train)\n",
    "print(\"Train R^2 Score:\", train_r2)\n",
    "\n",
    "# Evaluate the best model on the test set\n",
    "y_pred_test = regr.predict(x_test)\n",
    "test_r2 = r2_score(y_test, y_pred_test)\n",
    "print(\"Test R^2 Score:\", test_r2)\n"
   ]
  },
  {
   "cell_type": "markdown",
   "metadata": {},
   "source": [
    "Here we selected the columns with the highest correlation with the target and the rejected column from our hypothesis testing"
   ]
  },
  {
   "cell_type": "code",
   "execution_count": 43,
   "metadata": {},
   "outputs": [
    {
     "data": {
      "text/html": [
       "<div>\n",
       "<style scoped>\n",
       "    .dataframe tbody tr th:only-of-type {\n",
       "        vertical-align: middle;\n",
       "    }\n",
       "\n",
       "    .dataframe tbody tr th {\n",
       "        vertical-align: top;\n",
       "    }\n",
       "\n",
       "    .dataframe thead th {\n",
       "        text-align: right;\n",
       "    }\n",
       "</style>\n",
       "<table border=\"1\" class=\"dataframe\">\n",
       "  <thead>\n",
       "    <tr style=\"text-align: right;\">\n",
       "      <th></th>\n",
       "      <th>school</th>\n",
       "      <th>sex</th>\n",
       "      <th>age</th>\n",
       "      <th>address</th>\n",
       "      <th>famsize</th>\n",
       "      <th>Pstatus</th>\n",
       "      <th>Medu</th>\n",
       "      <th>Fedu</th>\n",
       "      <th>Mjob</th>\n",
       "      <th>Fjob</th>\n",
       "      <th>...</th>\n",
       "      <th>health</th>\n",
       "      <th>absences</th>\n",
       "      <th>G3</th>\n",
       "      <th>avg_Grade</th>\n",
       "      <th>school2</th>\n",
       "      <th>sex2</th>\n",
       "      <th>address2</th>\n",
       "      <th>schoolsup2</th>\n",
       "      <th>higher2</th>\n",
       "      <th>internet2</th>\n",
       "    </tr>\n",
       "  </thead>\n",
       "  <tbody>\n",
       "    <tr>\n",
       "      <th>0</th>\n",
       "      <td>GP</td>\n",
       "      <td>F</td>\n",
       "      <td>18</td>\n",
       "      <td>U</td>\n",
       "      <td>GT3</td>\n",
       "      <td>A</td>\n",
       "      <td>4</td>\n",
       "      <td>4</td>\n",
       "      <td>at_home</td>\n",
       "      <td>teacher</td>\n",
       "      <td>...</td>\n",
       "      <td>3</td>\n",
       "      <td>4</td>\n",
       "      <td>11</td>\n",
       "      <td>5.5</td>\n",
       "      <td>0</td>\n",
       "      <td>0</td>\n",
       "      <td>1</td>\n",
       "      <td>1</td>\n",
       "      <td>1</td>\n",
       "      <td>0</td>\n",
       "    </tr>\n",
       "    <tr>\n",
       "      <th>1</th>\n",
       "      <td>GP</td>\n",
       "      <td>F</td>\n",
       "      <td>17</td>\n",
       "      <td>U</td>\n",
       "      <td>GT3</td>\n",
       "      <td>T</td>\n",
       "      <td>1</td>\n",
       "      <td>1</td>\n",
       "      <td>at_home</td>\n",
       "      <td>other</td>\n",
       "      <td>...</td>\n",
       "      <td>3</td>\n",
       "      <td>2</td>\n",
       "      <td>11</td>\n",
       "      <td>10.0</td>\n",
       "      <td>0</td>\n",
       "      <td>0</td>\n",
       "      <td>1</td>\n",
       "      <td>0</td>\n",
       "      <td>1</td>\n",
       "      <td>1</td>\n",
       "    </tr>\n",
       "    <tr>\n",
       "      <th>2</th>\n",
       "      <td>GP</td>\n",
       "      <td>F</td>\n",
       "      <td>15</td>\n",
       "      <td>U</td>\n",
       "      <td>LE3</td>\n",
       "      <td>T</td>\n",
       "      <td>1</td>\n",
       "      <td>1</td>\n",
       "      <td>at_home</td>\n",
       "      <td>other</td>\n",
       "      <td>...</td>\n",
       "      <td>3</td>\n",
       "      <td>6</td>\n",
       "      <td>12</td>\n",
       "      <td>12.5</td>\n",
       "      <td>0</td>\n",
       "      <td>0</td>\n",
       "      <td>1</td>\n",
       "      <td>1</td>\n",
       "      <td>1</td>\n",
       "      <td>1</td>\n",
       "    </tr>\n",
       "    <tr>\n",
       "      <th>3</th>\n",
       "      <td>GP</td>\n",
       "      <td>F</td>\n",
       "      <td>15</td>\n",
       "      <td>U</td>\n",
       "      <td>GT3</td>\n",
       "      <td>T</td>\n",
       "      <td>4</td>\n",
       "      <td>2</td>\n",
       "      <td>health</td>\n",
       "      <td>services</td>\n",
       "      <td>...</td>\n",
       "      <td>5</td>\n",
       "      <td>0</td>\n",
       "      <td>14</td>\n",
       "      <td>14.0</td>\n",
       "      <td>0</td>\n",
       "      <td>0</td>\n",
       "      <td>1</td>\n",
       "      <td>0</td>\n",
       "      <td>1</td>\n",
       "      <td>1</td>\n",
       "    </tr>\n",
       "    <tr>\n",
       "      <th>4</th>\n",
       "      <td>GP</td>\n",
       "      <td>F</td>\n",
       "      <td>16</td>\n",
       "      <td>U</td>\n",
       "      <td>GT3</td>\n",
       "      <td>T</td>\n",
       "      <td>3</td>\n",
       "      <td>3</td>\n",
       "      <td>other</td>\n",
       "      <td>other</td>\n",
       "      <td>...</td>\n",
       "      <td>5</td>\n",
       "      <td>0</td>\n",
       "      <td>13</td>\n",
       "      <td>12.0</td>\n",
       "      <td>0</td>\n",
       "      <td>0</td>\n",
       "      <td>1</td>\n",
       "      <td>0</td>\n",
       "      <td>1</td>\n",
       "      <td>0</td>\n",
       "    </tr>\n",
       "  </tbody>\n",
       "</table>\n",
       "<p>5 rows × 38 columns</p>\n",
       "</div>"
      ],
      "text/plain": [
       "  school sex  age address famsize Pstatus  Medu  Fedu     Mjob      Fjob  ...  \\\n",
       "0     GP   F   18       U     GT3       A     4     4  at_home   teacher  ...   \n",
       "1     GP   F   17       U     GT3       T     1     1  at_home     other  ...   \n",
       "2     GP   F   15       U     LE3       T     1     1  at_home     other  ...   \n",
       "3     GP   F   15       U     GT3       T     4     2   health  services  ...   \n",
       "4     GP   F   16       U     GT3       T     3     3    other     other  ...   \n",
       "\n",
       "  health absences  G3  avg_Grade  school2 sex2 address2 schoolsup2 higher2  \\\n",
       "0      3        4  11        5.5        0    0        1          1       1   \n",
       "1      3        2  11       10.0        0    0        1          0       1   \n",
       "2      3        6  12       12.5        0    0        1          1       1   \n",
       "3      5        0  14       14.0        0    0        1          0       1   \n",
       "4      5        0  13       12.0        0    0        1          0       1   \n",
       "\n",
       "  internet2  \n",
       "0         0  \n",
       "1         1  \n",
       "2         1  \n",
       "3         1  \n",
       "4         0  \n",
       "\n",
       "[5 rows x 38 columns]"
      ]
     },
     "execution_count": 43,
     "metadata": {},
     "output_type": "execute_result"
    }
   ],
   "source": [
    "from sklearn.preprocessing import LabelEncoder\n",
    "from sklearn.preprocessing import OrdinalEncoder  as ore\n",
    "from sklearn.preprocessing import OneHotEncoder  as ohe\n",
    "df_copy = df.copy()\n",
    "binary_encoder = LabelEncoder()\n",
    "# These are the columns affecting the target from our hypothesis testing\n",
    "columns = ['school', 'sex', 'address', 'schoolsup', 'higher', 'internet']\n",
    "for col in columns:\n",
    "    df_copy[f'{col}2'] = binary_encoder.fit_transform(df[f'{col}'])\n",
    "df_copy.head()"
   ]
  },
  {
   "cell_type": "code",
   "execution_count": 44,
   "metadata": {},
   "outputs": [
    {
     "data": {
      "text/plain": [
       "['school2',\n",
       " 'sex2',\n",
       " 'address2',\n",
       " 'schoolsup2',\n",
       " 'higher2',\n",
       " 'internet2',\n",
       " 'avg_Grade',\n",
       " 'Dalc',\n",
       " 'failures',\n",
       " 'Medu',\n",
       " 'studytime']"
      ]
     },
     "execution_count": 44,
     "metadata": {},
     "output_type": "execute_result"
    }
   ],
   "source": [
    "columns2=[f\"{c}2\"for c in columns]\n",
    "# These features have strong correlation with our targeet variable\n",
    "columns2.extend(['avg_Grade',\"Dalc\",\"failures\",\"Medu\",\"studytime\"])\n",
    "columns2"
   ]
  },
  {
   "cell_type": "markdown",
   "metadata": {},
   "source": [
    "Applying Grid search to test different parameters for our ridge model"
   ]
  },
  {
   "cell_type": "code",
   "execution_count": 45,
   "metadata": {},
   "outputs": [
    {
     "name": "stdout",
     "output_type": "stream",
     "text": [
      "Best Parameters: {'alpha': 10.0, 'solver': 'sparse_cg'}\n",
      "Best MSE Score: 0.7826530238911706\n",
      "Test MSE: 0.9693272631634222\n",
      "Train R^2 Score: 0.886936804444666\n",
      "Test R^2 Score: 0.8711625353592876\n",
      "[(0, 'school2'), (0, 'sex2'), (0, 'address2'), (-0.4001617288332604, 'schoolsup2'), (0, 'higher2'), (0, 'internet2'), (0.9385614599923798, 'avg_Grade'), (0, 'Dalc'), (0, 'failures'), (0, 'Medu'), (0, 'studytime')]\n",
      "[0.8497351325320208, 0.7946260447148016, 0.91566559179341, 0.034129009502986564, 0.7133254277712411, 0.6797771424816188, 1.4471970851876747e-47, 0.9571141363081636, 0.4844525615156442, 0.4261551631470084, 0.3052362033480499]\n",
      "[0.18945638906210627, -0.26030820412484906, 0.10589508745850987, -2.1185441554863793, 0.3673936228185624, 0.41276725773812567, 14.48779239086089, -0.053775365861459326, -0.699159173811811, 0.7957881798787342, 1.0252691598405255]\n"
     ]
    }
   ],
   "source": [
    "from sklearn.model_selection import GridSearchCV, train_test_split\n",
    "from sklearn.linear_model import Ridge\n",
    "from sklearn.metrics import mean_squared_error\n",
    "\n",
    "X = df_copy[columns2]\n",
    "y = df_copy['G3']\n",
    "\n",
    "X_train, X_test, y_train, y_test = train_test_split(X, y, test_size=0.2, random_state=42)\n",
    "\n",
    "model = Ridge()\n",
    "\n",
    "param_grid = {\n",
    "    'alpha': [0.1, 1.0, 10.0],\n",
    "    'solver': ['auto', 'svd', 'cholesky', 'lsqr', 'sparse_cg', 'sag', 'saga']\n",
    "}\n",
    "\n",
    "grid_search = GridSearchCV(estimator=model, param_grid=param_grid, cv=5, scoring='neg_mean_squared_error')\n",
    "grid_search.fit(X_train, y_train)\n",
    "\n",
    "print(\"Best Parameters:\", grid_search.best_params_)\n",
    "print(\"Best MSE Score:\", -grid_search.best_score_)\n",
    "\n",
    "best_model = grid_search.best_estimator_\n",
    "y_pred = best_model.predict(X_test)\n",
    "test_mse = mean_squared_error(y_test, y_pred)\n",
    "print(\"Test MSE:\", test_mse)\n",
    "\n",
    "y_pred_train = best_model.predict(X_train)\n",
    "train_r2 = r2_score(y_train, y_pred_train)\n",
    "print(\"Train R^2 Score:\", train_r2)\n",
    "\n",
    "# Evaluate the best model on the test set\n",
    "y_pred_test = best_model.predict(X_test)\n",
    "test_r2 = r2_score(y_test, y_pred_test)\n",
    "print(\"Test R^2 Score:\", test_r2)\n",
    "nc,ps,zs=significance_hypothesis_test(X,y_test,y_pred,best_model.coef_)\n",
    "print(nc)\n",
    "print(ps)\n",
    "print(zs)\n"
   ]
  },
  {
   "cell_type": "markdown",
   "metadata": {},
   "source": [
    "Trying KNeighborsRegressor with Grid search to find the best parameters"
   ]
  },
  {
   "cell_type": "code",
   "execution_count": 46,
   "metadata": {},
   "outputs": [
    {
     "name": "stdout",
     "output_type": "stream",
     "text": [
      "Best Parameters: {'n_neighbors': 11, 'p': 2, 'weights': 'uniform'}\n",
      "Best MSE Score: 0.9217446206537115\n",
      "Test MSE: 1.0117302052785921\n"
     ]
    }
   ],
   "source": [
    "from sklearn.model_selection import GridSearchCV, train_test_split\n",
    "from sklearn.neighbors import KNeighborsRegressor\n",
    "from sklearn.metrics import mean_squared_error,r2_score\n",
    "\n",
    "# Assuming df_copy contains your DataFrame and columns2 are the features\n",
    "X = df_copy[columns2]\n",
    "y = df_copy['G3']\n",
    "\n",
    "# Split the data into training and testing sets\n",
    "X_train, X_test, y_train, y_test = train_test_split(X, y, test_size=0.2, random_state=42)\n",
    "\n",
    "# Create KNN Regressor model\n",
    "model = KNeighborsRegressor()\n",
    "\n",
    "# Define hyperparameters to search\n",
    "param_grid = {\n",
    "    'n_neighbors': [3, 5, 7, 9, 11],\n",
    "    'weights': ['uniform', 'distance'],\n",
    "    'p': [1, 2]  # 1 for Manhattan distance, 2 for Euclidean distance\n",
    "}\n",
    "\n",
    "# Perform GridSearchCV\n",
    "grid_search = GridSearchCV(estimator=model, param_grid=param_grid, cv=5, scoring='neg_mean_squared_error')\n",
    "grid_search.fit(X_train, y_train)\n",
    "\n",
    "# Print the best parameters and best MSE score\n",
    "print(\"Best Parameters:\", grid_search.best_params_)\n",
    "print(\"Best MSE Score:\", -grid_search.best_score_)\n",
    "\n",
    "# Evaluate the best model on the test set\n",
    "best_model = grid_search.best_estimator_\n",
    "y_pred = best_model.predict(X_test)\n",
    "test_mse = mean_squared_error(y_test, y_pred)\n",
    "print(\"Test MSE:\", test_mse)\n"
   ]
  },
  {
   "cell_type": "code",
   "execution_count": 47,
   "metadata": {},
   "outputs": [
    {
     "name": "stdout",
     "output_type": "stream",
     "text": [
      "Train R^2 Score: 0.8845132058921631\n",
      "Test R^2 Score: 0.8655265775532557\n"
     ]
    }
   ],
   "source": [
    "y_pred_train = best_model.predict(X_train)\n",
    "train_r2 = r2_score(y_train, y_pred_train)\n",
    "print(\"Train R^2 Score:\", train_r2)\n",
    "\n",
    "# Evaluate the best model on the test set\n",
    "y_pred_test = best_model.predict(X_test)\n",
    "test_r2 = r2_score(y_test, y_pred_test)\n",
    "print(\"Test R^2 Score:\", test_r2)\n"
   ]
  },
  {
   "cell_type": "code",
   "execution_count": 48,
   "metadata": {},
   "outputs": [
    {
     "name": "stdout",
     "output_type": "stream",
     "text": [
      "Defaulting to user installation because normal site-packages is not writeable\n",
      "Requirement already satisfied: xgboost in c:\\users\\moham\\appdata\\local\\packages\\pythonsoftwarefoundation.python.3.12_qbz5n2kfra8p0\\localcache\\local-packages\\python312\\site-packages (2.0.3)\n",
      "Requirement already satisfied: shap in c:\\users\\moham\\appdata\\local\\packages\\pythonsoftwarefoundation.python.3.12_qbz5n2kfra8p0\\localcache\\local-packages\\python312\\site-packages (0.45.1)\n",
      "Requirement already satisfied: numpy in c:\\users\\moham\\appdata\\local\\packages\\pythonsoftwarefoundation.python.3.12_qbz5n2kfra8p0\\localcache\\local-packages\\python312\\site-packages (from xgboost) (1.26.4)\n",
      "Requirement already satisfied: scipy in c:\\users\\moham\\appdata\\local\\packages\\pythonsoftwarefoundation.python.3.12_qbz5n2kfra8p0\\localcache\\local-packages\\python312\\site-packages (from xgboost) (1.13.0)\n",
      "Requirement already satisfied: scikit-learn in c:\\users\\moham\\appdata\\local\\packages\\pythonsoftwarefoundation.python.3.12_qbz5n2kfra8p0\\localcache\\local-packages\\python312\\site-packages (from shap) (1.4.2)\n",
      "Requirement already satisfied: pandas in c:\\users\\moham\\appdata\\local\\packages\\pythonsoftwarefoundation.python.3.12_qbz5n2kfra8p0\\localcache\\local-packages\\python312\\site-packages (from shap) (2.2.2)\n",
      "Requirement already satisfied: tqdm>=4.27.0 in c:\\users\\moham\\appdata\\local\\packages\\pythonsoftwarefoundation.python.3.12_qbz5n2kfra8p0\\localcache\\local-packages\\python312\\site-packages (from shap) (4.66.4)\n",
      "Requirement already satisfied: packaging>20.9 in c:\\users\\moham\\appdata\\local\\packages\\pythonsoftwarefoundation.python.3.12_qbz5n2kfra8p0\\localcache\\local-packages\\python312\\site-packages (from shap) (24.0)\n",
      "Requirement already satisfied: slicer==0.0.8 in c:\\users\\moham\\appdata\\local\\packages\\pythonsoftwarefoundation.python.3.12_qbz5n2kfra8p0\\localcache\\local-packages\\python312\\site-packages (from shap) (0.0.8)\n",
      "Requirement already satisfied: numba in c:\\users\\moham\\appdata\\local\\packages\\pythonsoftwarefoundation.python.3.12_qbz5n2kfra8p0\\localcache\\local-packages\\python312\\site-packages (from shap) (0.59.1)\n",
      "Requirement already satisfied: cloudpickle in c:\\users\\moham\\appdata\\local\\packages\\pythonsoftwarefoundation.python.3.12_qbz5n2kfra8p0\\localcache\\local-packages\\python312\\site-packages (from shap) (3.0.0)\n",
      "Requirement already satisfied: colorama in c:\\users\\moham\\appdata\\local\\packages\\pythonsoftwarefoundation.python.3.12_qbz5n2kfra8p0\\localcache\\local-packages\\python312\\site-packages (from tqdm>=4.27.0->shap) (0.4.6)\n",
      "Requirement already satisfied: llvmlite<0.43,>=0.42.0dev0 in c:\\users\\moham\\appdata\\local\\packages\\pythonsoftwarefoundation.python.3.12_qbz5n2kfra8p0\\localcache\\local-packages\\python312\\site-packages (from numba->shap) (0.42.0)\n",
      "Requirement already satisfied: python-dateutil>=2.8.2 in c:\\users\\moham\\appdata\\local\\packages\\pythonsoftwarefoundation.python.3.12_qbz5n2kfra8p0\\localcache\\local-packages\\python312\\site-packages (from pandas->shap) (2.9.0.post0)\n",
      "Requirement already satisfied: pytz>=2020.1 in c:\\users\\moham\\appdata\\local\\packages\\pythonsoftwarefoundation.python.3.12_qbz5n2kfra8p0\\localcache\\local-packages\\python312\\site-packages (from pandas->shap) (2024.1)\n",
      "Requirement already satisfied: tzdata>=2022.7 in c:\\users\\moham\\appdata\\local\\packages\\pythonsoftwarefoundation.python.3.12_qbz5n2kfra8p0\\localcache\\local-packages\\python312\\site-packages (from pandas->shap) (2024.1)\n",
      "Requirement already satisfied: joblib>=1.2.0 in c:\\users\\moham\\appdata\\local\\packages\\pythonsoftwarefoundation.python.3.12_qbz5n2kfra8p0\\localcache\\local-packages\\python312\\site-packages (from scikit-learn->shap) (1.4.2)\n",
      "Requirement already satisfied: threadpoolctl>=2.0.0 in c:\\users\\moham\\appdata\\local\\packages\\pythonsoftwarefoundation.python.3.12_qbz5n2kfra8p0\\localcache\\local-packages\\python312\\site-packages (from scikit-learn->shap) (3.5.0)\n",
      "Requirement already satisfied: six>=1.5 in c:\\users\\moham\\appdata\\local\\packages\\pythonsoftwarefoundation.python.3.12_qbz5n2kfra8p0\\localcache\\local-packages\\python312\\site-packages (from python-dateutil>=2.8.2->pandas->shap) (1.16.0)\n",
      "Note: you may need to restart the kernel to use updated packages.\n"
     ]
    }
   ],
   "source": [
    "pip install xgboost shap"
   ]
  },
  {
   "cell_type": "code",
   "execution_count": 49,
   "metadata": {},
   "outputs": [],
   "source": [
    "numerical_columns = df.select_dtypes(include=['int64','Float64'])\n"
   ]
  },
  {
   "cell_type": "code",
   "execution_count": 50,
   "metadata": {},
   "outputs": [],
   "source": [
    "X = numerical_columns.drop(columns=[\"G3\"])\n",
    "y = numerical_columns[\"G3\"]"
   ]
  },
  {
   "cell_type": "code",
   "execution_count": 51,
   "metadata": {},
   "outputs": [],
   "source": [
    "X = df_copy[columns2]\n",
    "y = df_copy['G3']\n",
    "\n",
    "# Split the data into training and testing sets\n",
    "# X_train, X_test, y_train, y_test = train_test_split(X, y, test_size=0.2, random_state=42)\n"
   ]
  },
  {
   "cell_type": "markdown",
   "metadata": {},
   "source": [
    "Trying Ensemblle Learning boosting techniqe called Xgboost with hyperparameter tuning and Kfold cross validation"
   ]
  },
  {
   "cell_type": "code",
   "execution_count": 52,
   "metadata": {},
   "outputs": [
    {
     "name": "stdout",
     "output_type": "stream",
     "text": [
      "Fitting 5 folds for each of 20 candidates, totalling 100 fits\n",
      "Best hyperparameters: {'subsample': 0.8, 'reg_lambda': 0.1, 'reg_alpha': 0.1, 'n_estimators': 300, 'max_depth': 3, 'learning_rate': 0.01, 'colsample_bytree': 0.9}\n",
      "Best MSE: 0.850710649211979\n"
     ]
    }
   ],
   "source": [
    "import numpy as np\n",
    "import xgboost as xgb\n",
    "from sklearn.model_selection import RandomizedSearchCV, KFold\n",
    "from sklearn.metrics import mean_squared_error\n",
    "\n",
    "\n",
    "# Define the XGBoost regressor\n",
    "model = xgb.XGBRegressor()\n",
    "\n",
    "# Define hyperparameter grid\n",
    "param_grid = {\n",
    "    'n_estimators': [100, 200, 300],\n",
    "    'max_depth': [3, 4, 5],\n",
    "    'learning_rate': [0.01, 0.1, 0.2],\n",
    "    'subsample': [0.6, 0.7, 0.8, 0.9],\n",
    "    'colsample_bytree': [0.6, 0.7, 0.8, 0.9],\n",
    "    'reg_alpha': [0, 0.1, 0.5, 1],\n",
    "    'reg_lambda': [0, 0.1, 0.5, 1]\n",
    "}\n",
    "\n",
    "# Perform cross-validation with hyperparameter tuning\n",
    "kfold = KFold(n_splits=5, shuffle=True, random_state=42)\n",
    "random_search = RandomizedSearchCV(model, param_distributions=param_grid, n_iter=20, scoring='neg_mean_squared_error', cv=kfold, verbose=1, random_state=42)\n",
    "\n",
    "# Fit the model\n",
    "random_search.fit(X, y)\n",
    "\n",
    "# Print the best hyperparameters found\n",
    "print(\"Best hyperparameters:\", random_search.best_params_)\n",
    "\n",
    "# Print the mean squared error of the best estimator\n",
    "print(\"Best MSE:\", -random_search.best_score_)\n",
    "\n",
    "# You can also access the best estimator directly\n",
    "best_model = random_search.best_estimator_\n"
   ]
  },
  {
   "cell_type": "markdown",
   "metadata": {},
   "source": [
    "Using the parameters from our best model"
   ]
  },
  {
   "cell_type": "code",
   "execution_count": 53,
   "metadata": {},
   "outputs": [
    {
     "name": "stdout",
     "output_type": "stream",
     "text": [
      "Mean MSE: 1.13\n",
      "Mean R^2: 0.85\n",
      "Train R^2 Score: 0.9603187838841297\n",
      "Test R^2 Score: 0.8503711139456096\n"
     ]
    }
   ],
   "source": [
    "import numpy as np\n",
    "import xgboost as xgb\n",
    "from sklearn.metrics import mean_squared_error, r2_score\n",
    "\n",
    "# Initialize XGBoost Regressor\n",
    "model = xgb.XGBRegressor(\n",
    "   n_estimators=100,  \n",
    "   max_depth=5,       \n",
    "   learning_rate=0.1, \n",
    "   subsample=0.8,     \n",
    "   colsample_bytree=0.8, \n",
    "   random_state=42    \n",
    ")\n",
    "\n",
    "# Use a list to store scores\n",
    "mse_scores = []\n",
    "r2_scores = []\n",
    "\n",
    "X_train, X_test, y_train, y_test = train_test_split(X, y, test_size=0.2, random_state=42)\n",
    "\n",
    "\n",
    "model.fit(X_train, y_train)\n",
    "y_pred = model.predict(X_test)\n",
    "\n",
    "# Calculate mean and standard deviation of MSE and R2\n",
    "mse = mean_squared_error(y_test, y_pred)\n",
    "r2 = r2_score(y_test, y_pred)\n",
    "print(\"Mean MSE: {:.2f}\".format(mse))\n",
    "print(\"Mean R^2: {:.2f}\".format(r2))\n",
    "\n",
    "\n",
    "y_pred_train = model.predict(X_train)\n",
    "train_r2 = r2_score(y_train, y_pred_train)\n",
    "print(\"Train R^2 Score:\", train_r2)\n",
    "\n",
    "# Evaluate the best model on the test set\n",
    "y_pred_test = model.predict(X_test)\n",
    "test_r2 = r2_score(y_test, y_pred_test)\n",
    "print(\"Test R^2 Score:\", test_r2)\n"
   ]
  },
  {
   "cell_type": "markdown",
   "metadata": {},
   "source": [
    "The final model appears to be overfitting the training data"
   ]
  },
  {
   "cell_type": "code",
   "execution_count": 54,
   "metadata": {},
   "outputs": [
    {
     "name": "stdout",
     "output_type": "stream",
     "text": [
      "Mean MSE: 0.90\n",
      "Mean R^2: 0.88\n",
      "Train R^2 Score: 0.8985868579151443\n",
      "Test R^2 Score: 0.8797864074754093\n"
     ]
    },
    {
     "data": {
      "image/png": "[encoded data removed]",
      "text/plain": [
       "<Figure size 800x550 with 2 Axes>"
      ]
     },
     "metadata": {},
     "output_type": "display_data"
    }
   ],
   "source": [
    "import numpy as np\n",
    "import xgboost as xgb\n",
    "from sklearn.metrics import mean_squared_error, r2_score\n",
    "import shap\n",
    "# Initialize XGBoost Regressor\n",
    "model = xgb.XGBRegressor(\n",
    "   n_estimators=100,  \n",
    "   max_depth=3,       \n",
    "   learning_rate=0.1, \n",
    "   subsample=0.9,    \n",
    "   reg_alpha=5, \n",
    "   reg_lambda=5,\n",
    "   colsample_bytree=0.7, \n",
    "   random_state=42    \n",
    ")\n",
    "\n",
    "# Use a list to store scores\n",
    "mse_scores = []\n",
    "r2_scores = []\n",
    "\n",
    "X_train, X_test, y_train, y_test = train_test_split(X, y, test_size=0.2, random_state=42)\n",
    "\n",
    "\n",
    "model.fit(X_train, y_train)\n",
    "y_pred = model.predict(X_test)\n",
    "\n",
    "# Calculate mean and standard deviation of MSE and R2\n",
    "mse = mean_squared_error(y_test, y_pred)\n",
    "r2 = r2_score(y_test, y_pred)\n",
    "print(\"Mean MSE: {:.2f}\".format(mse))\n",
    "print(\"Mean R^2: {:.2f}\".format(r2))\n",
    "\n",
    "\n",
    "y_pred_train = model.predict(X_train)\n",
    "train_r2 = r2_score(y_train, y_pred_train)\n",
    "print(\"Train R^2 Score:\", train_r2)\n",
    "\n",
    "# Evaluate the best model on the test set\n",
    "y_pred_test = model.predict(X_test)\n",
    "test_r2 = r2_score(y_test, y_pred_test)\n",
    "print(\"Test R^2 Score:\", test_r2)\n",
    "explainer = shap.Explainer(model,X)\n",
    "shap_values= explainer(X)\n",
    "shap.plots.beeswarm(shap_values)\n"
   ]
  },
  {
   "cell_type": "code",
   "execution_count": 55,
   "metadata": {},
   "outputs": [],
   "source": [
    "def calculate_shap(model, X_train, X_test):\n",
    "    # Calculate SHAP values\n",
    "    explainer = shap.TreeExplainer(model)\n",
    "    shap_values_cat_train = explainer.shap_values(X_train)\n",
    "    shap_values_cat_test = explainer.shap_values(X_test)\n",
    "    return explainer, shap_values_cat_train, shap_values_cat_test\n",
    "\n",
    "def display_shap_summary(shap_values_cat_train, X_train):\n",
    "    # Create the plot summarizing the SHAP values\n",
    "    shap.summary_plot(shap_values_cat_train, X_train, plot_type=\"bar\", plot_size=(12,12))\n",
    "    summary_fig, _ = plt.gcf(), plt.gca()\n",
    "    plt.show()\n",
    "\n",
    "def summary(model, data, X_train, X_test):\n",
    "    # Calculate SHAP values\n",
    "    explainer, shap_values_cat_train, shap_values_cat_test = calculate_shap(model, X_train, X_test)\n",
    "\n",
    "    # Summarize and visualize SHAP values\n",
    "    display_shap_summary(shap_values_cat_train, X_train)\n"
   ]
  },
  {
   "cell_type": "code",
   "execution_count": 56,
   "metadata": {},
   "outputs": [
    {
     "data": {
      "image/png": "[encoded data removed]",
      "text/plain": [
       "<Figure size 1200x1200 with 1 Axes>"
      ]
     },
     "metadata": {},
     "output_type": "display_data"
    },
    {
     "data": {
      "image/png": "[encoded data removed]",
      "text/plain": [
       "<Figure size 640x480 with 1 Axes>"
      ]
     },
     "metadata": {},
     "output_type": "display_data"
    }
   ],
   "source": [
    "summary(model,df,X_train,X_test)"
   ]
  },
  {
   "cell_type": "markdown",
   "metadata": {},
   "source": [
    "After  adding reguralization the overfitting is much less"
   ]
  }
 ],
 "metadata": {
  "kernelspec": {
   "display_name": "Python 3.10.6 64-bit",
   "language": "python",
   "name": "python3"
  },
  "language_info": {
   "codemirror_mode": {
    "name": "ipython",
    "version": 3
   },
   "file_extension": ".py",
   "mimetype": "text/x-python",
   "name": "python",
   "nbconvert_exporter": "python",
   "pygments_lexer": "ipython3",
   "version": "3.12.3"
  },
  "vscode": {
   "interpreter": {
    "hash": "76d7c06053c3456e5600312cec90888656fc0ed30c03d8425b9dac6e4fc8e014"
   }
  }
 },
 "nbformat": 4,
 "nbformat_minor": 2
}
