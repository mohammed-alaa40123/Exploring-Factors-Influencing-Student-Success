{
 "cells": [
  {
   "cell_type": "code",
   "execution_count": null,
   "metadata": {},
   "outputs": [],
   "source": [
    "import matplotlib.pyplot as plt\n",
    "import seaborn as sns\n",
    "import pandas as pd\n",
    "import numpy as np"
   ]
  },
  {
   "cell_type": "code",
   "execution_count": null,
   "metadata": {},
   "outputs": [],
   "source": [
    "df = pd.read_csv(\"cleaned_df.csv\")"
   ]
  },
  {
   "cell_type": "code",
   "execution_count": null,
   "metadata": {},
   "outputs": [],
   "source": [
    "df.head()"
   ]
  },
  {
   "cell_type": "code",
   "execution_count": null,
   "metadata": {},
   "outputs": [],
   "source": [
    "numerical_columns = df.select_dtypes(include=['int64','Float64'])\n"
   ]
  },
  {
   "cell_type": "code",
   "execution_count": null,
   "metadata": {},
   "outputs": [],
   "source": [
    "fig = plt.figure(figsize=(15, 15))\n",
    "\n",
    "sns.heatmap(numerical_columns.corr(),annot=True, linewidths=0.05)"
   ]
  },
  {
   "cell_type": "markdown",
   "metadata": {},
   "source": [
    "- There exists multicolinearity between Medu and Fedu so we will drop one of them\n",
    "- There exists multicolinearity between Malc and Dalc so we will drop one of them"
   ]
  },
  {
   "cell_type": "code",
   "execution_count": null,
   "metadata": {},
   "outputs": [],
   "source": [
    "df.drop(columns=[\"Walc\",\"Fedu\"],inplace =True)"
   ]
  },
  {
   "cell_type": "code",
   "execution_count": null,
   "metadata": {},
   "outputs": [],
   "source": [
    "categorical_columns = [c for c  in df.columns if c not in numerical_columns]\n",
    "categorical_columns"
   ]
  },
  {
   "cell_type": "code",
   "execution_count": null,
   "metadata": {},
   "outputs": [],
   "source": [
    "from sklearn.preprocessing import OrdinalEncoder\n",
    "ordinal_encoder = OrdinalEncoder()\n",
    "ordinal_encoded_df = ordinal_encoder.fit_transform(df[categorical_columns])\n",
    "fig = plt.figure(figsize=(20, 20))\n",
    "\n",
    "ordinal_encoded_df = pd.DataFrame(ordinal_encoded_df,columns=categorical_columns)\n",
    "ordinal_encoded_df[\"G3\"] = df[\"G3\"]\n",
    "sns.heatmap(ordinal_encoded_df.corr(),annot=True, linewidths=0.05)\n"
   ]
  },
  {
   "cell_type": "markdown",
   "metadata": {},
   "source": [
    "There is no multi colinearity and no high correlation between any of the categorical features and our target"
   ]
  },
  {
   "cell_type": "markdown",
   "metadata": {},
   "source": [
    "# Here We begin with hypothesis testing   "
   ]
  },
  {
   "cell_type": "markdown",
   "metadata": {},
   "source": [
    "## First define our hypothesis and get a general function for hypothesis test"
   ]
  },
  {
   "cell_type": "markdown",
   "metadata": {},
   "source": [
    "1-Null Hypothesis(H0): the two categories in binary columns  in our dataset have the same performance regarding average grades\n",
    "2-Alternative Hypothesis(H1): the  two categories in binary columns in our dataset have different perfromance regarding Final average"
   ]
  },
  {
   "cell_type": "markdown",
   "metadata": {},
   "source": [
    "Here we choose binary categorical columns\n"
   ]
  },
  {
   "cell_type": "code",
   "execution_count": null,
   "metadata": {},
   "outputs": [],
   "source": [
    "binary_categorical_columns=[c for c in categorical_columns if len(df[c].unique()) == 2] #here we choose colmns that have only 2 values(categories)"
   ]
  },
  {
   "cell_type": "code",
   "execution_count": null,
   "metadata": {},
   "outputs": [],
   "source": [
    "from scipy import stats\n",
    "\n",
    "\n",
    "def hypothesis_test(column):  # we give this function a binary categorical columns and we do hypothesis test on its two categories to see whether their average final grade will differ\n",
    "    cat1 = df[column].unique()[0]\n",
    "    cat2 = df[column].unique()[1]\n",
    "    \n",
    "    df1 = df[df[column] == cat1]\n",
    "    df2 = df[df[column] == cat2]\n",
    "    \n",
    "    X0 = np.mean(df1[\"G3\"])\n",
    "    X1 = np.mean(df2[\"G3\"])\n",
    "    X_bar = X0 - X1\n",
    "    \n",
    "    Sigma1 = np.std(df1[\"G3\"])\n",
    "    Sigma2 = np.std(df2[\"G3\"])\n",
    "    \n",
    "    Sig_1 = (Sigma1**2)/len(df1)\n",
    "    Sig_2 = (Sigma2**2)/len(df2)\n",
    "    SE = np.sqrt(Sig_1+Sig_2)\n",
    "    \n",
    "    Z_score = X_bar/SE  # we use Z_score because n>30\n",
    "    p_value = 2 * stats.norm.cdf(-abs(Z_score))\n",
    "    alpha = 0.05\n",
    "\n",
    "    if p_value < alpha:\n",
    "        print(f\"Reject the null hypothesis. The means are significantly different (p-value = {p_value:.04f})\")\n",
    "        return True\n",
    "    else:\n",
    "        print(f\"Fail to reject the null hypothesis. The means are not significantly different (p-value = {p_value:.04f})\")\n",
    "        return False\n"
   ]
  },
  {
   "cell_type": "code",
   "execution_count": null,
   "metadata": {},
   "outputs": [],
   "source": [
    "Rejected = []\n",
    "non_rejected = []\n",
    "\n",
    "for column in binary_categorical_columns:\n",
    "    print(\"Hypothesis test for column : \", column)\n",
    "    if (hypothesis_test(column)):\n",
    "        Rejected.append(column)\n",
    "    else:\n",
    "        non_rejected.append(column)\n",
    "    print(\"-----------------------------------------------------\")\n"
   ]
  },
  {
   "cell_type": "code",
   "execution_count": null,
   "metadata": {},
   "outputs": [],
   "source": [
    "print(\"Categories that differ from one another (affect our data): \")\n",
    "print(Rejected)\n",
    "print(\"Categories that do not differ alot from one another( not significant enough to know whether it affects or not):\")\n",
    "print(non_rejected)\n"
   ]
  },
  {
   "cell_type": "code",
   "execution_count": null,
   "metadata": {},
   "outputs": [],
   "source": []
  }
 ],
 "metadata": {
  "kernelspec": {
   "display_name": "Python 3",
   "language": "python",
   "name": "python3"
  },
  "language_info": {
   "codemirror_mode": {
    "name": "ipython",
    "version": 3
   },
   "file_extension": ".py",
   "mimetype": "text/x-python",
   "name": "python",
   "nbconvert_exporter": "python",
   "pygments_lexer": "ipython3",
   "version": "3.11.0"
  }
 },
 "nbformat": 4,
 "nbformat_minor": 2
}
