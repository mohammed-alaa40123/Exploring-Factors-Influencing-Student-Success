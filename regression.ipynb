{
 "cells": [
  {
   "cell_type": "code",
   "execution_count": null,
   "metadata": {},
   "outputs": [],
   "source": []
  },
  {
   "cell_type": "code",
   "execution_count": null,
   "metadata": {},
   "outputs": [],
   "source": []
  },
  {
   "cell_type": "code",
   "execution_count": null,
   "metadata": {},
   "outputs": [],
   "source": []
  },
  {
   "cell_type": "code",
   "execution_count": null,
   "metadata": {},
   "outputs": [],
   "source": []
  },
  {
   "cell_type": "code",
   "execution_count": null,
   "metadata": {},
   "outputs": [],
   "source": []
  },
  {
   "cell_type": "code",
   "execution_count": 46,
   "metadata": {},
   "outputs": [],
   "source": [
    "pipe=Pipeline([('ore',ore()),('Normalizer',Normalizer()),('Ridge',Ridge())])\n"
   ]
  },
  {
   "cell_type": "code",
   "execution_count": 47,
   "metadata": {},
   "outputs": [
    {
     "name": "stdout",
     "output_type": "stream",
     "text": [
      "MSE Score:  6.814785666682278\n",
      "R^2 Score:  0.0004700582149368415\n",
      "[(0.7050592034445631, 'avg_Grade')]\n",
      "[3.5822934019246255e-39]\n",
      "[13.093597711584877]\n"
     ]
    }
   ],
   "source": [
    "pipe.fit(X,y)\n",
    "y_pred_norm=pipe.predict(X)\n",
    "y_pred=denormalize(y_pred_norm)\n",
    "mse = mean_squared_error(y, y_pred)\n",
    "print(\"MSE Score: \",mse)\n",
    "rs=r2_score(y,y_pred)\n",
    "print(\"R^2 Score: \",rs)\n",
    "enc=ore()\n",
    "\n",
    "X1=enc.fit_transform(X)\n",
    "\n",
    "encoded_df = pd.DataFrame(X1,columns=enc.get_feature_names_out(X.columns))\n",
    "\n",
    "nc,ps,zs=significance_hypothesis_test(encoded_df,y,y_pred,pipe.named_steps['Ridge'].coef_)\n",
    "print(sorted(nc))\n",
    "print(ps)\n",
    "print(zs)\n"
   ]
  },
  {
   "cell_type": "code",
   "execution_count": 48,
   "metadata": {},
   "outputs": [],
   "source": [
    "def denormalize(y):#this is a denormalize function\n",
    "    u=np.mean(df['G3'])\n",
    "    sigma=np.std(df['G3'])\n",
    "    for i in y:\n",
    "        i=i*sigma+u\n",
    "    return y"
   ]
  },
  {
   "cell_type": "code",
   "execution_count": 49,
   "metadata": {},
   "outputs": [],
   "source": [
    "from sklearn.linear_model import LinearRegression\n",
    "from sklearn.model_selection import train_test_split\n",
    "from sklearn.metrics import mean_squared_error, r2_score\n",
    "from sklearn.preprocessing import PolynomialFeatures\n",
    "from sklearn.preprocessing import Normalizer\n",
    "from sklearn.preprocessing import MinMaxScaler\n",
    "import pandas as pd\n",
    "import numpy as np\n",
    "import warnings\n",
    "import scipy.stats as stats\n",
    "# Ignore warnings\n",
    "warnings.filterwarnings(\"ignore\")\n",
    "\n",
    "from sklearn.model_selection import KFold\n",
    "from sklearn.linear_model import Ridge\n",
    "from sklearn.pipeline import Pipeline\n",
    "from sklearn.preprocessing import OrdinalEncoder as ore"
   ]
  },
  {
   "cell_type": "code",
   "execution_count": 50,
   "metadata": {},
   "outputs": [],
   "source": [
    "df = pd.read_csv(\"cleaned_df.csv\")"
   ]
  },
  {
   "cell_type": "code",
   "execution_count": 51,
   "metadata": {},
   "outputs": [],
   "source": [
    "\n",
    "X = df.drop(columns=[\"G3\"])\n",
    "y = df['G3']\n"
   ]
  },
  {
   "cell_type": "markdown",
   "metadata": {},
   "source": [
    "# Model Building"
   ]
  },
  {
   "cell_type": "markdown",
   "metadata": {},
   "source": [
    "## First we will define our features and our target"
   ]
  },
  {
   "cell_type": "code",
   "execution_count": 52,
   "metadata": {},
   "outputs": [
    {
     "name": "stdout",
     "output_type": "stream",
     "text": [
      "MSE Score:  1.9372166794863541\n",
      "R^2 Score:  0.7158669150317205\n",
      "Started\n"
     ]
    }
   ],
   "source": [
    "def significance_hypothesis_test(X,y_train,y_pred,coeff):\n",
    "    N=len(y_train)\n",
    "    numerator=np.sqrt(mean_squared_error(y_train,y_pred)*(N/(N-2)))\n",
    "    SE=[]\n",
    "   \n",
    "    cols=X.columns.copy()\n",
    "    for column in cols:\n",
    "        denomenator=np.sqrt(np.std(X[column])*N)\n",
    "        SE.append(numerator/denomenator)\n",
    "    Z_score=[]\n",
    "    p_score=[]\n",
    "    new_coeff=[]\n",
    "\n",
    "\n",
    "    for i in range(len(coeff)):\n",
    "        Z_score.append(coeff[i]/SE[i])\n",
    "        p_score.append(2*stats.norm.cdf(-abs(Z_score[i])))\n",
    "        if(p_score[i]<0.05):\n",
    "            new_coeff.append((coeff[i],X.columns[i]))\n",
    "        else:\n",
    "            new_coeff.append((0,X.columns[i]))\n",
    "    return new_coeff,p_score,Z_score\n",
    "    \n",
    "\n",
    "import matplotlib.pyplot as plt\n",
    "\n",
    "    # def plot_coefficient_significance(coefficients, p_values):\n",
    "    #     # print(coefficients,p_values)\n",
    "    #     fig, ax = plt.subplots()\n",
    "    #     ax.barh(range(len(coefficients)), p_values, color='skyblue')\n",
    "    #     ax.set_yticks(range(len(coefficients)))\n",
    "    #     ax.set_yticklabels([coeff[1] for coeff in coefficients])\n",
    "    #     ax.invert_yaxis()  # Invert y-axis to have the highest coefficient at the top\n",
    "    #     ax.set_xlabel('p-value')\n",
    "    #     ax.set_title('Significance of Coefficients')\n",
    "    #     plt.show()\n",
    "pipe=Pipeline([('ore',ore()),('Normalizer',Normalizer()),('Ridge',Ridge())])\n",
    "\n",
    "pipe.fit(X,y)\n",
    "y_pred_norm=pipe.predict(X)\n",
    "y_pred=denormalize(y_pred_norm)\n",
    "mse = mean_squared_error(y, y_pred)\n",
    "print(\"MSE Score: \",mse)\n",
    "rs=r2_score(y,y_pred)\n",
    "print(\"R^2 Score: \",rs)\n",
    "enc=ore()\n",
    "\n",
    "X1=enc.fit_transform(X)\n",
    "\n",
    "encoded_df = pd.DataFrame(X1,columns=enc.get_feature_names_out(X.columns))\n",
    "\n",
    "# nc,ps,zs=significance_hypothesis_test(encoded_df,y,y_pred,pipe.named_steps['Ridge'].coef_)\n",
    "# print(sorted(nc))\n",
    "# print(ps)\n",
    "# print(zs)\n",
    "print(\"Started\")\n",
    "coefficients, p_values,_ = significance_hypothesis_test(encoded_df,y,y_pred,pipe.named_steps['Ridge'].coef_)\n",
    "#plot_coefficient_significance(coefficients, p_values)\n",
    "    "
   ]
  },
  {
   "cell_type": "code",
   "execution_count": 53,
   "metadata": {},
   "outputs": [],
   "source": [
    "df = pd.read_csv(\"cleaned_df.csv\")"
   ]
  },
  {
   "cell_type": "markdown",
   "metadata": {},
   "source": [
    "Here we tried Ridge regression with cross "
   ]
  },
  {
   "cell_type": "code",
   "execution_count": 54,
   "metadata": {},
   "outputs": [
    {
     "name": "stdout",
     "output_type": "stream",
     "text": [
      "MSE Score:  1.6762269005770825\n",
      "R^2 Score:  0.7541464899558549\n"
     ]
    }
   ],
   "source": [
    "from sklearn.pipeline import Pipeline\n",
    "from sklearn.preprocessing import StandardScaler\n",
    "from sklearn.linear_model import LinearRegression\n",
    "from sklearn.model_selection import KFold, cross_val_score\n",
    "import numpy as np\n",
    "alphas = [0,0.1, 1.0, 10.0]\n",
    "mean_cv_scores = []\n",
    "for alpha in alphas:\n",
    "    # Define the pipeline with Ridge Regression\n",
    "    pipeline = Pipeline([\n",
    "        ('ore',ore()),\n",
    "        ('scaler', StandardScaler()),\n",
    "        ('ridge', Ridge(alpha=alpha))\n",
    "    ])\n",
    "        # Define K-Fold Cross-Validation\n",
    "    kfold = KFold(n_splits=5, shuffle=True, random_state=42)\n",
    "\n",
    "    # Perform K-Fold Cross-Validation\n",
    "    cv_scores = cross_val_score(pipeline, X, y, cv=kfold)\n",
    "    mean_cv_score = np.mean(cv_scores)\n",
    "    mean_cv_scores.append(mean_cv_score)\n",
    "best_alpha = alphas[np.argmax(mean_cv_scores)]\n",
    "pipe=Pipeline([('ore',ore()),('Normalizer',Normalizer()),('Ridge',Ridge(alpha=best_alpha))])\n",
    "pipe.fit(X,y)\n",
    "y_pred_norm=pipe.predict(X)\n",
    "y_pred=denormalize(y_pred_norm)\n",
    "mse = mean_squared_error(y, y_pred)\n",
    "print(\"MSE Score: \",mse)\n",
    "rs=r2_score(y,y_pred)\n",
    "print(\"R^2 Score: \",rs)\n"
   ]
  },
  {
   "cell_type": "markdown",
   "metadata": {},
   "source": [
    "Here we tried only linear regression with the feature we made from previous grades"
   ]
  },
  {
   "cell_type": "code",
   "execution_count": 57,
   "metadata": {},
   "outputs": [
    {
     "name": "stdout",
     "output_type": "stream",
     "text": [
      "Mean MSE: 0.93\n",
      "Mean R^2: 0.88\n",
      "Train R^2 Score: 0.8775947730876035\n",
      "Test R^2 Score: 0.8791414363302177\n",
      "[(0.9438224181412738, 'avg_Grade')]\n",
      "[4.440419873752014e-50]\n",
      "[14.880068898777415]\n"
     ]
    }
   ],
   "source": [
    "X=df[['avg_Grade']]\n",
    "y=df['G3']\n",
    "x_train, x_test, y_train, y_test = train_test_split(X, y ,random_state = 104, train_size=0.8, shuffle=True) \n",
    "\n",
    "model=LinearRegression()\n",
    "model.fit(x_train,y_train)\n",
    "y_pred=model.predict(x_test)\n",
    "# Calculate mean and standard deviation of MSE and R2\n",
    "mse = mean_squared_error(y_test, y_pred)\n",
    "r2 = r2_score(y_test, y_pred)\n",
    "print(\"Mean MSE: {:.2f}\".format(mse))\n",
    "print(\"Mean R^2: {:.2f}\".format(r2))\n",
    "\n",
    "\n",
    "y_pred_train = model.predict(x_train)\n",
    "train_r2 = r2_score(y_train, y_pred_train)\n",
    "print(\"Train R^2 Score:\", train_r2)\n",
    "\n",
    "# Evaluate the best model on the test set\n",
    "y_pred_test = model.predict(x_test)\n",
    "test_r2 = r2_score(y_test, y_pred_test)\n",
    "print(\"Test R^2 Score:\", test_r2)\n",
    "nc,ps,zs=significance_hypothesis_test(X,y_test,y_pred,model.coef_)\n",
    "print(nc)\n",
    "print(ps)\n",
    "print(zs)\n"
   ]
  },
  {
   "cell_type": "markdown",
   "metadata": {},
   "source": [
    "Trying Linear Regression with encoding categorical variables"
   ]
  },
  {
   "cell_type": "code",
   "execution_count": null,
   "metadata": {},
   "outputs": [],
   "source": [
    "l = []\n",
    "cat = []\n",
    "\n",
    "for i in df:\n",
    "    if (type(df[i][0]) != str):\n",
    "        l.append(i)\n",
    "    else:\n",
    "        cat.append(i)\n",
    "        \n",
    "l.remove(\"G3\")\n",
    "x = df[l].copy()\n",
    "cat = df[cat].copy() # cat is df\n",
    "\n",
    "for i in cat:\n",
    "    unique = cat[i].unique()\n",
    "    uniqueDict = dict()\n",
    "      \n",
    "    for c in range(len(unique)):\n",
    "        uniqueDict[unique[c]] = c\n",
    "        \n",
    "    cat[i] = cat[i].apply(lambda j: uniqueDict[j])\n",
    "        \n",
    "    # for j in cat[i].keys():\n",
    "    #     cat.loc[j, i] = uniqueDict[cat[i][j]]\n",
    "        \n",
    "    cat[i] = cat[i].astype(\"int64\")\n",
    "    x[i] = cat[i].copy()\n",
    "\n",
    "for i in x:\n",
    "    u = np.mean(x[i])\n",
    "    sigma = np.std(x[i])\n",
    "    x[i] = (x[i] - u) / sigma\n",
    "\n",
    "y = df[\"G3\"].copy()\n",
    "\n",
    "for i in y.keys():\n",
    "    u = np.mean(y)\n",
    "    sigma = np.std(y)\n",
    "    y[i] = (y[i] - u) / sigma\n",
    "\n",
    "from sklearn.model_selection import train_test_split\n",
    "x_train, x_test, y_train, y_test = train_test_split(x, y ,random_state = 104, train_size=0.8, shuffle=True) \n",
    "\n",
    "regr = LinearRegression(fit_intercept = True)\n",
    "regr.fit(x_train, y_train)\n",
    "y_pred = regr.predict(x_test)\n",
    "\n",
    "print(\"MSE Score: \",mean_squared_error(y_test, y_pred))\n",
    "\n",
    "y_pred_train = regr.predict(x_train)\n",
    "train_r2 = r2_score(y_train, y_pred_train)\n",
    "print(\"Train R^2 Score:\", train_r2)\n",
    "\n",
    "# Evaluate the best model on the test set\n",
    "y_pred_test = regr.predict(x_test)\n",
    "test_r2 = r2_score(y_test, y_pred_test)\n",
    "print(\"Test R^2 Score:\", test_r2)\n"
   ]
  },
  {
   "cell_type": "markdown",
   "metadata": {},
   "source": [
    "Here we selected the columns with the highest correlation with the target and the rejected column from our hypothesis testing"
   ]
  },
  {
   "cell_type": "code",
   "execution_count": null,
   "metadata": {},
   "outputs": [],
   "source": [
    "from sklearn.preprocessing import LabelEncoder\n",
    "from sklearn.preprocessing import OrdinalEncoder  as ore\n",
    "from sklearn.preprocessing import OneHotEncoder  as ohe\n",
    "df_copy = df.copy()\n",
    "binary_encoder = LabelEncoder()\n",
    "# These are the columns affecting the target from our hypothesis testing\n",
    "columns = ['school', 'sex', 'address', 'schoolsup', 'higher', 'internet']\n",
    "for col in columns:\n",
    "    df_copy[f'{col}2'] = binary_encoder.fit_transform(df[f'{col}'])\n",
    "df_copy.head()"
   ]
  },
  {
   "cell_type": "code",
   "execution_count": null,
   "metadata": {},
   "outputs": [],
   "source": [
    "df_copy = df.copy()\n",
    "binary_encoder = LabelEncoder()\n",
    "# These are the columns affecting the target from our hypothesis testing\n",
    "columns = ['school', 'sex', 'address', 'schoolsup', 'higher', 'internet']\n",
    "for col in columns:\n",
    "    df_copy[f'{col}2'] = binary_encoder.fit_transform(df[f'{col}'])\n",
    "df_copy.head()\n",
    "columns2=[f\"{c}2\"for c in columns]\n",
    "# These features have strong correlation with our targeet variable\n",
    "columns2.extend(['avg_Grade',\"Dalc\",\"failures\",\"Medu\",\"studytime\"])\n",
    "columns2"
   ]
  },
  {
   "cell_type": "markdown",
   "metadata": {},
   "source": [
    "Applying Grid search to test different parameters for our ridge model"
   ]
  },
  {
   "cell_type": "code",
   "execution_count": null,
   "metadata": {},
   "outputs": [],
   "source": [
    "from sklearn.model_selection import GridSearchCV, train_test_split\n",
    "from sklearn.linear_model import Ridge\n",
    "from sklearn.metrics import mean_squared_error\n",
    "\n",
    "X = df_copy[columns2]\n",
    "y = df_copy['G3']\n",
    "\n",
    "X_train, X_test, y_train, y_test = train_test_split(X, y, test_size=0.2, random_state=42)\n",
    "\n",
    "model = Ridge()\n",
    "\n",
    "param_grid = {\n",
    "    'alpha': [0.1, 1.0, 10.0],\n",
    "    'solver': ['auto', 'svd', 'cholesky', 'lsqr', 'sparse_cg', 'sag', 'saga']\n",
    "}\n",
    "\n",
    "grid_search = GridSearchCV(estimator=model, param_grid=param_grid, cv=5, scoring='neg_mean_squared_error')\n",
    "grid_search.fit(X_train, y_train)\n",
    "\n",
    "print(\"Best Parameters:\", grid_search.best_params_)\n",
    "print(\"Best MSE Score:\", -grid_search.best_score_)\n",
    "\n",
    "best_model = grid_search.best_estimator_\n",
    "y_pred = best_model.predict(X_test)\n",
    "test_mse = mean_squared_error(y_test, y_pred)\n",
    "print(\"Test MSE:\", test_mse)\n",
    "\n",
    "y_pred_train = best_model.predict(X_train)\n",
    "train_r2 = r2_score(y_train, y_pred_train)\n",
    "print(\"Train R^2 Score:\", train_r2)\n",
    "\n",
    "# Evaluate the best model on the test set\n",
    "y_pred_test = best_model.predict(X_test)\n",
    "test_r2 = r2_score(y_test, y_pred_test)\n",
    "print(\"Test R^2 Score:\", test_r2)\n",
    "nc,ps,zs=significance_hypothesis_test(X,y_test,y_pred,best_model.coef_)\n",
    "print(nc)\n",
    "print(ps)\n",
    "print(zs)\n"
   ]
  },
  {
   "cell_type": "markdown",
   "metadata": {},
   "source": [
    "Trying KNeighborsRegressor with Grid search to find the best parameters"
   ]
  },
  {
   "cell_type": "code",
   "execution_count": null,
   "metadata": {},
   "outputs": [],
   "source": [
    "from sklearn.model_selection import GridSearchCV, train_test_split\n",
    "from sklearn.neighbors import KNeighborsRegressor\n",
    "from sklearn.metrics import mean_squared_error,r2_score\n",
    "\n",
    "# Assuming df_copy contains your DataFrame and columns2 are the features\n",
    "X = df_copy[columns2]\n",
    "y = df_copy['G3']\n",
    "\n",
    "# Split the data into training and testing sets\n",
    "X_train, X_test, y_train, y_test = train_test_split(X, y, test_size=0.2, random_state=42)\n",
    "\n",
    "# Create KNN Regressor model\n",
    "model = KNeighborsRegressor()\n",
    "\n",
    "# Define hyperparameters to search\n",
    "param_grid = {\n",
    "    'n_neighbors': [3, 5, 7, 9, 11],\n",
    "    'weights': ['uniform', 'distance'],\n",
    "    'p': [1, 2]  # 1 for Manhattan distance, 2 for Euclidean distance\n",
    "}\n",
    "\n",
    "# Perform GridSearchCV\n",
    "grid_search = GridSearchCV(estimator=model, param_grid=param_grid, cv=5, scoring='neg_mean_squared_error')\n",
    "grid_search.fit(X_train, y_train)\n",
    "\n",
    "# Print the best parameters and best MSE score\n",
    "print(\"Best Parameters:\", grid_search.best_params_)\n",
    "print(\"Best MSE Score:\", -grid_search.best_score_)\n",
    "\n",
    "# Evaluate the best model on the test set\n",
    "best_model = grid_search.best_estimator_\n",
    "y_pred = best_model.predict(X_test)\n",
    "test_mse = mean_squared_error(y_test, y_pred)\n",
    "print(\"Test MSE:\", test_mse)\n"
   ]
  },
  {
   "cell_type": "code",
   "execution_count": null,
   "metadata": {},
   "outputs": [],
   "source": [
    "y_pred_train = best_model.predict(X_train)\n",
    "train_r2 = r2_score(y_train, y_pred_train)\n",
    "print(\"Train R^2 Score:\", train_r2)\n",
    "\n",
    "# Evaluate the best model on the test set\n",
    "y_pred_test = best_model.predict(X_test)\n",
    "test_r2 = r2_score(y_test, y_pred_test)\n",
    "print(\"Test R^2 Score:\", test_r2)\n"
   ]
  },
  {
   "cell_type": "code",
   "execution_count": 61,
   "metadata": {},
   "outputs": [
    {
     "name": "stdout",
     "output_type": "stream",
     "text": [
      "Collecting shap\n",
      "  Downloading shap-0.45.1-cp312-cp312-win_amd64.whl.metadata (25 kB)\n",
      "Requirement already satisfied: xgboost in c:\\users\\hamdi\\appdata\\local\\programs\\python\\python312\\lib\\site-packages (2.0.3)\n",
      "Requirement already satisfied: numpy in c:\\users\\hamdi\\appdata\\local\\programs\\python\\python312\\lib\\site-packages (from shap) (1.26.4)\n",
      "Requirement already satisfied: scipy in c:\\users\\hamdi\\appdata\\local\\programs\\python\\python312\\lib\\site-packages (from shap) (1.11.4)\n",
      "Requirement already satisfied: scikit-learn in c:\\users\\hamdi\\appdata\\local\\programs\\python\\python312\\lib\\site-packages (from shap) (1.4.2)\n",
      "Requirement already satisfied: pandas in c:\\users\\hamdi\\appdata\\local\\programs\\python\\python312\\lib\\site-packages (from shap) (2.1.4)\n",
      "Requirement already satisfied: tqdm>=4.27.0 in c:\\users\\hamdi\\appdata\\local\\programs\\python\\python312\\lib\\site-packages (from shap) (4.66.4)\n",
      "Requirement already satisfied: packaging>20.9 in c:\\users\\hamdi\\appdata\\local\\programs\\python\\python312\\lib\\site-packages (from shap) (23.2)\n",
      "Collecting slicer==0.0.8 (from shap)\n",
      "  Downloading slicer-0.0.8-py3-none-any.whl.metadata (4.0 kB)\n",
      "Requirement already satisfied: numba in c:\\users\\hamdi\\appdata\\local\\programs\\python\\python312\\lib\\site-packages (from shap) (0.59.1)\n",
      "Requirement already satisfied: cloudpickle in c:\\users\\hamdi\\appdata\\local\\programs\\python\\python312\\lib\\site-packages (from shap) (3.0.0)\n",
      "Requirement already satisfied: colorama in c:\\users\\hamdi\\appdata\\local\\programs\\python\\python312\\lib\\site-packages (from tqdm>=4.27.0->shap) (0.4.6)\n",
      "Requirement already satisfied: llvmlite<0.43,>=0.42.0dev0 in c:\\users\\hamdi\\appdata\\local\\programs\\python\\python312\\lib\\site-packages (from numba->shap) (0.42.0)\n",
      "Requirement already satisfied: python-dateutil>=2.8.2 in c:\\users\\hamdi\\appdata\\local\\programs\\python\\python312\\lib\\site-packages (from pandas->shap) (2.8.2)\n",
      "Requirement already satisfied: pytz>=2020.1 in c:\\users\\hamdi\\appdata\\local\\programs\\python\\python312\\lib\\site-packages (from pandas->shap) (2024.1)\n",
      "Requirement already satisfied: tzdata>=2022.1 in c:\\users\\hamdi\\appdata\\local\\programs\\python\\python312\\lib\\site-packages (from pandas->shap) (2024.1)\n",
      "Requirement already satisfied: joblib>=1.2.0 in c:\\users\\hamdi\\appdata\\local\\programs\\python\\python312\\lib\\site-packages (from scikit-learn->shap) (1.3.2)\n",
      "Requirement already satisfied: threadpoolctl>=2.0.0 in c:\\users\\hamdi\\appdata\\local\\programs\\python\\python312\\lib\\site-packages (from scikit-learn->shap) (3.5.0)\n",
      "Requirement already satisfied: six>=1.5 in c:\\users\\hamdi\\appdata\\local\\programs\\python\\python312\\lib\\site-packages (from python-dateutil>=2.8.2->pandas->shap) (1.16.0)\n",
      "Downloading shap-0.45.1-cp312-cp312-win_amd64.whl (455 kB)\n",
      "   ---------------------------------------- 0.0/455.7 kB ? eta -:--:--\n",
      "   -- ------------------------------------- 30.7/455.7 kB 1.3 MB/s eta 0:00:01\n",
      "   ------- -------------------------------- 81.9/455.7 kB 1.1 MB/s eta 0:00:01\n",
      "   ----------------- ---------------------- 194.6/455.7 kB 1.5 MB/s eta 0:00:01\n",
      "   ---------------------- ----------------- 256.0/455.7 kB 1.6 MB/s eta 0:00:01\n",
      "   -------------------------- ------------- 307.2/455.7 kB 1.7 MB/s eta 0:00:01\n",
      "   -------------------------------- ------- 368.6/455.7 kB 1.4 MB/s eta 0:00:01\n",
      "   ---------------------------------- ----- 389.1/455.7 kB 1.4 MB/s eta 0:00:01\n",
      "   ---------------------------------------  450.6/455.7 kB 1.3 MB/s eta 0:00:01\n",
      "   ---------------------------------------- 455.7/455.7 kB 1.2 MB/s eta 0:00:00\n",
      "Downloading slicer-0.0.8-py3-none-any.whl (15 kB)\n",
      "Installing collected packages: slicer, shap\n",
      "Successfully installed shap-0.45.1 slicer-0.0.8\n",
      "Note: you may need to restart the kernel to use updated packages.\n"
     ]
    }
   ],
   "source": [
    "pip install shap xgboost"
   ]
  },
  {
   "cell_type": "code",
   "execution_count": null,
   "metadata": {},
   "outputs": [],
   "source": [
    "numerical_columns = df.select_dtypes(include=['int64','Float64'])\n"
   ]
  },
  {
   "cell_type": "code",
   "execution_count": null,
   "metadata": {},
   "outputs": [],
   "source": [
    "X = numerical_columns.drop(columns=[\"G3\"])\n",
    "y = numerical_columns[\"G3\"]"
   ]
  },
  {
   "cell_type": "code",
   "execution_count": null,
   "metadata": {},
   "outputs": [],
   "source": [
    "X = df_copy[columns2]\n",
    "y = df_copy['G3']\n",
    "\n",
    "# Split the data into training and testing sets\n",
    "# X_train, X_test, y_train, y_test = train_test_split(X, y, test_size=0.2, random_state=42)\n"
   ]
  },
  {
   "cell_type": "markdown",
   "metadata": {},
   "source": [
    "Trying Ensemblle Learning boosting techniqe called Xgboost with hyperparameter tuning and Kfold cross validation"
   ]
  },
  {
   "cell_type": "code",
   "execution_count": null,
   "metadata": {},
   "outputs": [],
   "source": [
    "import numpy as np\n",
    "import xgboost as xgb\n",
    "from sklearn.model_selection import RandomizedSearchCV, KFold\n",
    "from sklearn.metrics import mean_squared_error\n",
    "\n",
    "\n",
    "# Define the XGBoost regressor\n",
    "model = xgb.XGBRegressor()\n",
    "\n",
    "# Define hyperparameter grid\n",
    "param_grid = {\n",
    "    'n_estimators': [100, 200, 300],\n",
    "    'max_depth': [3, 4, 5],\n",
    "    'learning_rate': [0.01, 0.1, 0.2],\n",
    "    'subsample': [0.6, 0.7, 0.8, 0.9],\n",
    "    'colsample_bytree': [0.6, 0.7, 0.8, 0.9],\n",
    "    'reg_alpha': [0, 0.1, 0.5, 1],\n",
    "    'reg_lambda': [0, 0.1, 0.5, 1]\n",
    "}\n",
    "\n",
    "# Perform cross-validation with hyperparameter tuning\n",
    "kfold = KFold(n_splits=5, shuffle=True, random_state=42)\n",
    "random_search = RandomizedSearchCV(model, param_distributions=param_grid, n_iter=20, scoring='neg_mean_squared_error', cv=kfold, verbose=1, random_state=42)\n",
    "\n",
    "# Fit the model\n",
    "random_search.fit(X, y)\n",
    "\n",
    "# Print the best hyperparameters found\n",
    "print(\"Best hyperparameters:\", random_search.best_params_)\n",
    "\n",
    "# Print the mean squared error of the best estimator\n",
    "print(\"Best MSE:\", -random_search.best_score_)\n",
    "\n",
    "# You can also access the best estimator directly\n",
    "best_model = random_search.best_estimator_\n"
   ]
  },
  {
   "cell_type": "markdown",
   "metadata": {},
   "source": [
    "Using the parameters from our best model"
   ]
  },
  {
   "cell_type": "code",
   "execution_count": null,
   "metadata": {},
   "outputs": [],
   "source": [
    "import numpy as np\n",
    "import xgboost as xgb\n",
    "from sklearn.metrics import mean_squared_error, r2_score\n",
    "\n",
    "# Initialize XGBoost Regressor\n",
    "model = xgb.XGBRegressor(\n",
    "   n_estimators=100,  \n",
    "   max_depth=5,       \n",
    "   learning_rate=0.1, \n",
    "   subsample=0.8,     \n",
    "   colsample_bytree=0.8, \n",
    "   random_state=42    \n",
    ")\n",
    "\n",
    "# Use a list to store scores\n",
    "mse_scores = []\n",
    "r2_scores = []\n",
    "\n",
    "X_train, X_test, y_train, y_test = train_test_split(X, y, test_size=0.2, random_state=42)\n",
    "\n",
    "\n",
    "model.fit(X_train, y_train)\n",
    "y_pred = model.predict(X_test)\n",
    "\n",
    "# Calculate mean and standard deviation of MSE and R2\n",
    "mse = mean_squared_error(y_test, y_pred)\n",
    "r2 = r2_score(y_test, y_pred)\n",
    "print(\"Mean MSE: {:.2f}\".format(mse))\n",
    "print(\"Mean R^2: {:.2f}\".format(r2))\n",
    "\n",
    "\n",
    "y_pred_train = model.predict(X_train)\n",
    "train_r2 = r2_score(y_train, y_pred_train)\n",
    "print(\"Train R^2 Score:\", train_r2)\n",
    "\n",
    "# Evaluate the best model on the test set\n",
    "y_pred_test = model.predict(X_test)\n",
    "test_r2 = r2_score(y_test, y_pred_test)\n",
    "print(\"Test R^2 Score:\", test_r2)\n"
   ]
  },
  {
   "cell_type": "markdown",
   "metadata": {},
   "source": [
    "The final model appears to be overfitting the training data"
   ]
  },
  {
   "cell_type": "code",
   "execution_count": 65,
   "metadata": {},
   "outputs": [
    {
     "name": "stdout",
     "output_type": "stream",
     "text": [
      "Mean MSE: 0.84\n",
      "Mean R^2: 0.89\n",
      "Train R^2 Score: 0.8867672403219766\n",
      "Test R^2 Score: 0.8886614243884502\n"
     ]
    },
    {
     "data": {
      "image/png": "[encoded data removed]",
      "text/plain": [
       "<Figure size 800x190 with 2 Axes>"
      ]
     },
     "metadata": {},
     "output_type": "display_data"
    }
   ],
   "source": [
    "import numpy as np\n",
    "import xgboost as xgb\n",
    "from sklearn.metrics import mean_squared_error, r2_score\n",
    "import shap\n",
    "# Initialize XGBoost Regressor\n",
    "model = xgb.XGBRegressor(\n",
    "   n_estimators=100,  \n",
    "   max_depth=3,       \n",
    "   learning_rate=0.1, \n",
    "   subsample=0.9,    \n",
    "   reg_alpha=5, \n",
    "   reg_lambda=5,\n",
    "   colsample_bytree=0.7, \n",
    "   random_state=42    \n",
    ")\n",
    "\n",
    "# Use a list to store scores\n",
    "mse_scores = []\n",
    "r2_scores = []\n",
    "\n",
    "X_train, X_test, y_train, y_test = train_test_split(X, y, test_size=0.2, random_state=42)\n",
    "\n",
    "\n",
    "model.fit(X_train, y_train)\n",
    "y_pred = model.predict(X_test)\n",
    "\n",
    "# Calculate mean and standard deviation of MSE and R2\n",
    "mse = mean_squared_error(y_test, y_pred)\n",
    "r2 = r2_score(y_test, y_pred)\n",
    "print(\"Mean MSE: {:.2f}\".format(mse))\n",
    "print(\"Mean R^2: {:.2f}\".format(r2))\n",
    "\n",
    "\n",
    "y_pred_train = model.predict(X_train)\n",
    "train_r2 = r2_score(y_train, y_pred_train)\n",
    "print(\"Train R^2 Score:\", train_r2)\n",
    "\n",
    "# Evaluate the best model on the test set\n",
    "y_pred_test = model.predict(X_test)\n",
    "test_r2 = r2_score(y_test, y_pred_test)\n",
    "print(\"Test R^2 Score:\", test_r2)\n",
    "\n",
    "explainer = shap.Explainer(model,X)\n",
    "shap_values= explainer(X)\n",
    "shap.plots.beeswarm(shap_values)\n"
   ]
  },
  {
   "cell_type": "markdown",
   "metadata": {},
   "source": [
    "After  adding reguralization the overfitting is much less"
   ]
  }
 ],
 "metadata": {
  "kernelspec": {
   "display_name": "Python 3.10.6 64-bit",
   "language": "python",
   "name": "python3"
  },
  "language_info": {
   "codemirror_mode": {
    "name": "ipython",
    "version": 3
   },
   "file_extension": ".py",
   "mimetype": "text/x-python",
   "name": "python",
   "nbconvert_exporter": "python",
   "pygments_lexer": "ipython3",
   "version": "3.12.1"
  },
  "vscode": {
   "interpreter": {
    "hash": "76d7c06053c3456e5600312cec90888656fc0ed30c03d8425b9dac6e4fc8e014"
   }
  }
 },
 "nbformat": 4,
 "nbformat_minor": 2
}
